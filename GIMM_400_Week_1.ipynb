{
  "nbformat": 4,
  "nbformat_minor": 0,
  "metadata": {
    "colab": {
      "name": "GIMM 400 Week 1.ipynb",
      "provenance": []
    },
    "kernelspec": {
      "name": "python3",
      "display_name": "Python 3"
    }
  },
  "cells": [
    {
      "cell_type": "code",
      "metadata": {
        "id": "KShzvFdxvNPr",
        "colab_type": "code",
        "outputId": "46d9ea6b-a325-4cc8-f057-acc01821224a",
        "colab": {
          "base_uri": "https://localhost:8080/",
          "height": 87
        }
      },
      "source": [
        "ar = [1,2]\n",
        "print(len(ar))\n",
        "print(len('hello'))\n",
        "\n",
        "def num_of_strings(sentence):\n",
        "  array_words = sentence.split()\n",
        "  print(array_words)\n",
        "  if len(array_words) > 5:\n",
        "    print('long sentence')\n",
        "  return len(array_words)\n",
        "\n",
        "print(num_of_strings('Hello World'))"
      ],
      "execution_count": 0,
      "outputs": [
        {
          "output_type": "stream",
          "text": [
            "2\n",
            "5\n",
            "['Hello', 'World']\n",
            "2\n"
          ],
          "name": "stdout"
        }
      ]
    },
    {
      "cell_type": "code",
      "metadata": {
        "id": "vmIIQhbPvowi",
        "colab_type": "code",
        "outputId": "7073a750-5780-4fd3-fa19-d41829f648a9",
        "colab": {
          "base_uri": "https://localhost:8080/",
          "height": 34
        }
      },
      "source": [
        "import string \n",
        "\n",
        "sentence = \"I     am having  a   very  nice  23!@$      day. \"\n",
        "# Remove all punctuations\n",
        "sentence = sentence.translate(str.maketrans('', '', string.punctuation))\n",
        "# Remove all numbers\"\n",
        "sentence = ''.join([word for word in sentence if not word.isdigit()])\n",
        "count = 0;\n",
        "for index in range(len(sentence)-1) :\n",
        "    if sentence[index+1].isspace() and not sentence[index].isspace():\n",
        "        count += 1 \n",
        "print(count)"
      ],
      "execution_count": 0,
      "outputs": [
        {
          "output_type": "stream",
          "text": [
            "7\n"
          ],
          "name": "stdout"
        }
      ]
    }
  ]
}