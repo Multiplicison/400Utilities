{
  "nbformat": 4,
  "nbformat_minor": 0,
  "metadata": {
    "colab": {
      "name": "GIMM 400 Week 6.ipynb",
      "provenance": [],
      "collapsed_sections": []
    },
    "kernelspec": {
      "name": "python3",
      "display_name": "Python 3"
    }
  },
  "cells": [
    {
      "cell_type": "code",
      "metadata": {
        "id": "-MIVj5zxAUE3",
        "colab_type": "code",
        "outputId": "d2997df6-c720-401c-e3d5-d16935cf4e7d",
        "colab": {
          "base_uri": "https://localhost:8080/",
          "height": 292
        }
      },
      "source": [
        "#First attempt, for solution, see bottom code block\n",
        "\n",
        "a = list(input(\"Enter grades: \"))\n",
        "w = list(input(\"Enter weights for grades above: \"))\n",
        "n = 0\n",
        "\n",
        "for x in a:\n",
        "  n + 1\n",
        "\n",
        "print(n)\n",
        "\n",
        "result = ((a1*w1) + (a2*w2))/n\n",
        "\n",
        "return result"
      ],
      "execution_count": 0,
      "outputs": [
        {
          "output_type": "stream",
          "text": [
            "Enter grades: 10\n",
            "Enter weights for grades above: 1\n",
            "0\n"
          ],
          "name": "stdout"
        },
        {
          "output_type": "error",
          "ename": "NameError",
          "evalue": "ignored",
          "traceback": [
            "\u001b[0;31m---------------------------------------------------------------------------\u001b[0m",
            "\u001b[0;31mNameError\u001b[0m                                 Traceback (most recent call last)",
            "\u001b[0;32m<ipython-input-21-c728b18cbdfa>\u001b[0m in \u001b[0;36m<module>\u001b[0;34m()\u001b[0m\n\u001b[1;32m      8\u001b[0m \u001b[0mprint\u001b[0m\u001b[0;34m(\u001b[0m\u001b[0mn\u001b[0m\u001b[0;34m)\u001b[0m\u001b[0;34m\u001b[0m\u001b[0;34m\u001b[0m\u001b[0m\n\u001b[1;32m      9\u001b[0m \u001b[0;34m\u001b[0m\u001b[0m\n\u001b[0;32m---> 10\u001b[0;31m \u001b[0mresult\u001b[0m \u001b[0;34m=\u001b[0m \u001b[0;34m(\u001b[0m\u001b[0;34m(\u001b[0m\u001b[0ma1\u001b[0m\u001b[0;34m*\u001b[0m\u001b[0mw1\u001b[0m\u001b[0;34m)\u001b[0m \u001b[0;34m+\u001b[0m \u001b[0;34m(\u001b[0m\u001b[0ma2\u001b[0m\u001b[0;34m*\u001b[0m\u001b[0mw2\u001b[0m\u001b[0;34m)\u001b[0m\u001b[0;34m)\u001b[0m\u001b[0;34m/\u001b[0m\u001b[0mn\u001b[0m\u001b[0;34m\u001b[0m\u001b[0;34m\u001b[0m\u001b[0m\n\u001b[0m\u001b[1;32m     11\u001b[0m \u001b[0;34m\u001b[0m\u001b[0m\n\u001b[1;32m     12\u001b[0m \u001b[0;32mreturn\u001b[0m \u001b[0mresult\u001b[0m\u001b[0;34m\u001b[0m\u001b[0;34m\u001b[0m\u001b[0m\n",
            "\u001b[0;31mNameError\u001b[0m: name 'a1' is not defined"
          ]
        }
      ]
    },
    {
      "cell_type": "code",
      "metadata": {
        "id": "jLmNmFWQC-Fb",
        "colab_type": "code",
        "outputId": "faced0e0-c54d-49cc-a9a5-abd7634dcec2",
        "colab": {
          "base_uri": "https://localhost:8080/",
          "height": 105
        }
      },
      "source": [
        "inputGrades = [int(x) for x in input(\"Input grades: \").split()]\n",
        "print(inputGrades)\n",
        "inputWeights = [float(x) for x in input(\"Input weights: \").split()]\n",
        "print(inputWeights)\n",
        "x = calculate()\n",
        "print(x)\n",
        "\n",
        "def calculate():\n",
        "  sum(inputGrades[x] * inputWeights[x] / sum(inputWeights) for x in range(len(inputGrades)))\n",
        "  return \"The total score is: \" + calculate"
      ],
      "execution_count": 0,
      "outputs": [
        {
          "output_type": "stream",
          "text": [
            "Input grades: 10\n",
            "[10]\n",
            "Input weights: 1\n",
            "[1.0]\n",
            "<function calculate at 0x7fbf70693620>\n"
          ],
          "name": "stdout"
        }
      ]
    },
    {
      "cell_type": "code",
      "metadata": {
        "id": "goqzd1XxHKZs",
        "colab_type": "code",
        "outputId": "905747e3-1767-447c-87c6-d0db3b3a031f",
        "colab": {
          "base_uri": "https://localhost:8080/",
          "height": 52
        }
      },
      "source": [
        "import statistics\n",
        "np.mean(x)\n",
        "def sqrt_of_x(x):\n",
        "  return x**0.5\n",
        "\n",
        "def raise_to_power_of_2(x):\n",
        "  return x**2\n",
        "\n",
        "print(sqrt_of_x(4))\n",
        "print(raise_to_power_of_2(4))\n",
        "\n",
        "mean()"
      ],
      "execution_count": 0,
      "outputs": [
        {
          "output_type": "stream",
          "text": [
            "2.0\n",
            "16\n"
          ],
          "name": "stdout"
        }
      ]
    },
    {
      "cell_type": "code",
      "metadata": {
        "id": "7-J-A3MNP6VF",
        "colab_type": "code",
        "outputId": "9dd8ed0d-b3e6-4b53-908d-727d92798d30",
        "colab": {
          "base_uri": "https://localhost:8080/",
          "height": 105
        }
      },
      "source": [
        "#Correct and functional answer:\n",
        "\n",
        "inputGrades = [int(x) for x in input(\"Input grades: \").split()]\n",
        "intArray = []\n",
        "print(inputGrades)\n",
        "\n",
        "inputWeights = [float(x) for x in input(\"Input weights: \").split()]\n",
        "print(inputWeights)\n",
        "\n",
        "tot = 0\n",
        "for x in range(len(inputWeights)):\n",
        "  tot += inputWeights[x] * inputGrades[x]\n",
        "print(tot)"
      ],
      "execution_count": 0,
      "outputs": [
        {
          "output_type": "stream",
          "text": [
            "Input grades: 10 14\n",
            "[10, 14]\n",
            "Input weights: .5 .5\n",
            "[0.5, 0.5]\n",
            "12.0\n"
          ],
          "name": "stdout"
        }
      ]
    }
  ]
}